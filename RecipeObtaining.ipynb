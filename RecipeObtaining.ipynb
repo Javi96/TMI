{
 "cells": [
  {
   "cell_type": "code",
   "execution_count": null,
   "metadata": {},
   "outputs": [],
   "source": [
    "#Imports correspondientes.\n",
    "import urllib.request\n",
    "from bottle import route, run, template"
   ]
  },
  {
   "cell_type": "code",
   "execution_count": null,
   "metadata": {},
   "outputs": [],
   "source": [
    "#Parametros de configuracion\n",
    "app_id=\"\"#AÑADIR AQUÍ PARA SU FUNCIONAMIENTO\n",
    "app_key=\"\"\n"
   ]
  },
  {
   "cell_type": "code",
   "execution_count": null,
   "metadata": {},
   "outputs": [],
   "source": [
    "\n",
    "#FUNCIONALIDADES DEL SERVICIO REST\n",
    "\n",
    "#Dado un plato, devuelve su receta.\n",
    "def getRecipe(plate):\n",
    "    #print(plate)\n",
    "    #plate=parseInput(plate)\n",
    "    #print(plate)\n",
    "    print(\"https://api.edamam.com/search?app_id=\"+ app_id + \"&app_key=\"+app_key+\"&q=+\"+plate)\n",
    "    contents = urllib.request.urlopen(\"https://api.edamam.com/search?app_id=\"+ app_id + \"&app_key=\"+app_key+\"&q=+\"+plate).read()\n",
    "    return contents\n",
    "\n",
    "\n",
    "\n"
   ]
  },
  {
   "cell_type": "code",
   "execution_count": null,
   "metadata": {},
   "outputs": [],
   "source": [
    "#Métodos auxiliares\n",
    "'''\n",
    "    Dada una entrada (supuestamente el nombre de un plato), parsea su contenido sustituyendo los espacios\n",
    "    en blanco por \"%20\".\n",
    "    \n",
    "    Esto se utiliza cuando el plato está compuesto por múltiples palabras (por ejemplo, tortilla de patata).\n",
    "    En el caso de que el nombre del plato esté compuesto por una sola palabra (por ejemplo, lentejas), este método\n",
    "    no hará nada.\n",
    "    \n",
    "    Para realizar una petición get, es necesario convertir:\n",
    "        tortilla de patatas ==>  tortilla%20de%20patatas\n",
    "'''\n",
    "def parseInput(input):\n",
    "    #Si no tenemos una sola palabra.\n",
    "    if(len(input.split())!=1):\n",
    "        return input.replace(\" \", \"%20\") \n",
    "    else:\n",
    "        return input\n"
   ]
  },
  {
   "cell_type": "code",
   "execution_count": null,
   "metadata": {},
   "outputs": [],
   "source": [
    "#ESQUELETO DEL SERVICIO REST\n",
    "\n",
    "@route('/recipe/<plate>')\n",
    "def index(plate):\n",
    "    return getRecipe(plate)\n",
    "\n",
    "run(host='localhost', port=8080)"
   ]
  },
  {
   "cell_type": "code",
   "execution_count": null,
   "metadata": {},
   "outputs": [],
   "source": []
  }
 ],
 "metadata": {
  "kernelspec": {
   "display_name": "Python 3",
   "language": "python",
   "name": "python3"
  },
  "language_info": {
   "codemirror_mode": {
    "name": "ipython",
    "version": 3
   },
   "file_extension": ".py",
   "mimetype": "text/x-python",
   "name": "python",
   "nbconvert_exporter": "python",
   "pygments_lexer": "ipython3",
   "version": "3.7.0"
  }
 },
 "nbformat": 4,
 "nbformat_minor": 2
}
