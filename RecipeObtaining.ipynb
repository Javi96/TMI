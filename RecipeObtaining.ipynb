{
 "cells": [
  {
   "cell_type": "code",
   "execution_count": 1,
   "metadata": {},
   "outputs": [],
   "source": [
    "#Imports correspondientes.\n",
    "import urllib.request\n",
    "import json\n",
    "import difflib\n",
    "from bottle import route, run, template"
   ]
  },
  {
   "cell_type": "code",
   "execution_count": 2,
   "metadata": {},
   "outputs": [],
   "source": [
    "#Parametros de configuracion\n",
    "\n",
    "#AÑADIR AQUÍ PARA SU FUNCIONAMIENTO\n",
    "app_id=\"\"\n",
    "app_key=\"\"\n"
   ]
  },
  {
   "cell_type": "code",
   "execution_count": 3,
   "metadata": {},
   "outputs": [],
   "source": [
    "\n",
    "#FUNCIONALIDADES DEL SERVICIO REST\n",
    "\n",
    "#Dado un plato, devuelve su receta.\n",
    "def get_recipe(plate):\n",
    "    plate=parse_blank_spaces(plate)\n",
    "    contents = urllib.request.urlopen(\"https://api.edamam.com/search?app_id=\"+ app_id + \"&app_key=\"+app_key+\"&q=+\"+plate).read()\n",
    "    \n",
    "    #contents es de tipo bytes. Es necesario pasarlo a json.\n",
    "    contents = parse_bytes_to_JSON(contents)\n",
    "    \n",
    "    return get_best_hit(plate,contents)[\"recipe\"][\"ingredientLines\"] #Devuelve una lista con los ingredientes sin procesar\n",
    "\n",
    "\n",
    "def get_best_hit(plate,contentJSON):\n",
    "    #Para cada posible match, buscamos el que tiene mayor similaridad.\n",
    "    #La similaridad se busca mediante el encaje de cadenas. BUSCAR MEJORA.\n",
    "    \n",
    "    max=0    \n",
    "    for x in contentJSON[\"hits\"] :\n",
    "        similarity=get_label_similarity(plate,x[\"recipe\"][\"label\"])\n",
    "        if(similarity>max):\n",
    "            max=similarity\n",
    "            best_hit=x\n",
    "            \n",
    "    return best_hit\n",
    "\n"
   ]
  },
  {
   "cell_type": "code",
   "execution_count": 4,
   "metadata": {},
   "outputs": [],
   "source": [
    "#Métodos auxiliares\n",
    "\n",
    "'''\n",
    "    Dada una entrada (supuestamente el nombre de un plato), parsea su contenido sustituyendo los espacios\n",
    "    en blanco por \"%20\".\n",
    "    \n",
    "    Esto se utiliza cuando el plato está compuesto por múltiples palabras (por ejemplo, tortilla de patata).\n",
    "    En el caso de que el nombre del plato esté compuesto por una sola palabra (por ejemplo, lentejas), este método\n",
    "    no hará nada.\n",
    "    \n",
    "    Para realizar una petición get, es necesario convertir:\n",
    "        tortilla de patatas ==>  tortilla%20de%20patatas\n",
    "        \n",
    "    el resultado es un string parseado tal y como se indica arriba.\n",
    "    \n",
    "'''\n",
    "def parse_blank_spaces(input):\n",
    "    #Si no tenemos una sola palabra, parsea. En caso contrario, no hace nada.\n",
    "    return input.replace(\" \", \"%20\") \n",
    "\n",
    "'''\n",
    "    Dado un objeto bytes, obtiene el json asociado.\n",
    "    \n",
    "    Se utiliza para formatear el resultado de las llamadas a APIs que devuelven un json.\n",
    "    \n",
    "    input: objeto tipo bytes a formatear.\n",
    "    \n",
    "    el resultado es un objeto json (diccionario)\n",
    "    \n",
    "'''    \n",
    "def parse_bytes_to_JSON(input):\n",
    "    decoded = input.decode('utf8') #Decodificamos usando utf-8. El resultado es un string con forma de json.\n",
    "    return json.loads(decoded);  #Creamos el json a partir del string    \n",
    "\n",
    "\n",
    "'''\n",
    "    Obtiene la similaridad entre dos cadenas.\n",
    "    \n",
    "    Se usa para comparar las etiquetas de la receta que se solicita y las que encuentra el sistema.\n",
    "    \n",
    "    first: primera etiqueta a comparar.\n",
    "    second: etiqueta que se comparara a first.\n",
    "\n",
    "    el resultado es un porcentaje.\n",
    "\n",
    "'''\n",
    "def get_label_similarity(first, second):\n",
    "    #Comparará las dos entradas en minuscula.\n",
    "    seq = difflib.SequenceMatcher(None,first.lower(),second.lower())\n",
    "    return seq.ratio()*100\n",
    "    "
   ]
  },
  {
   "cell_type": "code",
   "execution_count": null,
   "metadata": {},
   "outputs": [
    {
     "name": "stderr",
     "output_type": "stream",
     "text": [
      "Bottle v0.12.16 server starting up (using WSGIRefServer())...\n",
      "Listening on http://localhost:8080/\n",
      "Hit Ctrl-C to quit.\n",
      "\n",
      "127.0.0.1 - - [10/Mar/2019 15:46:14] \"GET /recipe/tortilla%20de%20patatas HTTP/1.1\" 200 294\n"
     ]
    }
   ],
   "source": [
    "#ESQUELETO DEL SERVICIO REST\n",
    "\n",
    "@route('/recipe/<plate>')\n",
    "def index(plate):\n",
    "    #return get_recipe(plate)\n",
    "    return str(get_recipe(plate))\n",
    "\n",
    "    \n",
    "run(host='localhost', port=8080)"
   ]
  },
  {
   "cell_type": "code",
   "execution_count": null,
   "metadata": {},
   "outputs": [],
   "source": [
    "print(get_label_similarity(\"MUNDO\",\"Mundo\"))"
   ]
  },
  {
   "cell_type": "code",
   "execution_count": null,
   "metadata": {},
   "outputs": [],
   "source": []
  }
 ],
 "metadata": {
  "kernelspec": {
   "display_name": "Python 3",
   "language": "python",
   "name": "python3"
  },
  "language_info": {
   "codemirror_mode": {
    "name": "ipython",
    "version": 3
   },
   "file_extension": ".py",
   "mimetype": "text/x-python",
   "name": "python",
   "nbconvert_exporter": "python",
   "pygments_lexer": "ipython3",
   "version": "3.7.0"
  }
 },
 "nbformat": 4,
 "nbformat_minor": 2
}
